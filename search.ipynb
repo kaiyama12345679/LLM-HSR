{
 "cells": [
  {
   "cell_type": "code",
   "execution_count": 1,
   "metadata": {},
   "outputs": [
    {
     "data": {
      "text/plain": [
       "True"
      ]
     },
     "execution_count": 1,
     "metadata": {},
     "output_type": "execute_result"
    }
   ],
   "source": [
    "\n",
    "import os\n",
    "from dotenv import load_dotenv\n",
    "load_dotenv()"
   ]
  },
  {
   "cell_type": "code",
   "execution_count": 2,
   "metadata": {},
   "outputs": [],
   "source": [
    "from langchain_openai import ChatOpenAI\n",
    "from langchain.agents import load_tools\n",
    "from langchain.agents import initialize_agent\n",
    "from langchain.prompts import PromptTemplate\n",
    "from langchain import hub"
   ]
  },
  {
   "cell_type": "code",
   "execution_count": 3,
   "metadata": {},
   "outputs": [
    {
     "name": "stdout",
     "output_type": "stream",
     "text": [
      "\n",
      "Please describe in detail the contents of the book “時々ボソッとロシア語でデレるアーリャさん”. Please provide as much specific information as possible about what the book covers, important themes, genre, and a summary of the content.\n",
      "Do not include any information unrelated to the content, such as the size of the book.\n",
      "\n"
     ]
    }
   ],
   "source": [
    "\n",
    "template = \"\"\"\n",
    "Please describe in detail the contents of the book “{title}”. Please provide as much specific information as possible about what the book covers, important themes, genre, and a summary of the content.\n",
    "Do not include any information unrelated to the content, such as the size of the book.\n",
    "\"\"\"\n",
    "\n",
    "prompt = PromptTemplate(template=template, input_variables=[\"title\"])\n",
    "prompt_format = prompt.format(title=\"時々ボソッとロシア語でデレるアーリャさん\")\n",
    "print(prompt_format)\n"
   ]
  },
  {
   "cell_type": "code",
   "execution_count": 4,
   "metadata": {},
   "outputs": [
    {
     "name": "stderr",
     "output_type": "stream",
     "text": [
      "/Users/kai-yamashita/Desktop/langchain/.venv/lib/python3.10/site-packages/langchain_core/_api/deprecation.py:119: LangChainDeprecationWarning: The function `initialize_agent` was deprecated in LangChain 0.1.0 and will be removed in 0.3.0. Use Use new agent constructor methods like create_react_agent, create_json_agent, create_structured_chat_agent, etc. instead.\n",
      "  warn_deprecated(\n"
     ]
    }
   ],
   "source": [
    "tools = [\"google-search\"]\n",
    "llm = ChatOpenAI(model=\"gpt-3.5-turbo\")\n",
    "tools = load_tools(tools, llm=llm)\n",
    "agent = initialize_agent(tools=tools, llm=llm, agent=\"zero-shot-react-description\", verbose=True)"
   ]
  },
  {
   "cell_type": "code",
   "execution_count": 5,
   "metadata": {},
   "outputs": [
    {
     "name": "stdout",
     "output_type": "stream",
     "text": [
      "\n",
      "\n",
      "\u001b[1m> Entering new AgentExecutor chain...\u001b[0m\n",
      "\u001b[32;1m\u001b[1;3mI should use Google Search to find information about the book \"時々ボソッとロシア語でデレるアーリャさん\".\n",
      "Action: google_search\n",
      "Action Input: \"時々ボソッとロシア語でデレるアーリャさん book summary\"\u001b[0m\n",
      "Observation: \u001b[36;1m\u001b[1;3mシリーズ累計発行部数170万部超！ 大人気ライトノベル・コミックが待望のTVアニメ化. 商品の詳細 · 商品の説明 · クチコミ評価 · 最新のクチコミ · 本・音楽・ゲーム・文学/小説・本・音楽・ゲーム・文学/小説 · この商品を見ている人におすすめ. 商品の状態目立った傷や汚れなし配送料の負担送料込み(出品者負担)配送の方法らくらくメルカリ便発送元の地域福岡県発送までの日数4~7日で発送 ... 時々ボソッとロシア語でデレる隣のアーリャさん アクリルスタンド 第5 ... グッズ-スタンドポップ】時々ボソッとロシア語 ... 燦々SUN先生×ももこ先生のタッグで贈るニヤニヤ必至な青春ラブコメ！『時々ボソッとロシア語でデレる隣のアーリャさん』公式アカウント。 公式タグ #ロシデレ あらすじ→ ... 新品未開封品です。プチプチ梱包して発送致します。・時々ボソッとロシア語でデレる隣のアーリャさん B2タペストリー/第3弾 A・ゲーマーズ「超」限定版 B2 ... 大特価✨時々ボソッとロシア語でデレる隣のアーリャさんロシデレ アーリャさんアクリルスタンド21点セット✨新品ではありません。飾っていました。 以前サンプルを使わせていただいてまつ毛がのびたのでさっそくリピ購入です。他のまつ毛美容液も数種類試しましたが、効果はあるものの色素沈着がひどいので、こちらの ... 7巻あらすじ. 戸惑いとトキメキが交錯した体育祭を経て、遂に自分の気持ちに気付いたアーリャさん。一方、政近は約束の ... 【全巻セット】時々ボソッとロシア語でデレる隣のアーリャさん 1巻 ～ 3巻 (講談社コミックス) - 漫画、コミック.\u001b[0m\n",
      "Thought:\u001b[32;1m\u001b[1;3mI should try a more specific search to find a summary of the book.\n",
      "Action: google_search\n",
      "Action Input: \"時々ボソッとロシア語でデレるアーリャさん book summary and themes\"\u001b[0m\n",
      "Observation: \u001b[36;1m\u001b[1;3m時々ボソッとロシア語でデレる隣のアーリャさん (Tokidoki Bosotto Roshiago de Dereru Tonari no Ārya-san). Genre, Romantic comedy. Novel series. Written by ... 7巻あらすじ. 戸惑いとトキメキが交錯した体育祭を経て、遂に自分の気持ちに気付いたアーリャさん。一方、政近は約束の ... 『時々ボソッとロシア語でデレる隣のアーリャさん』（ときどきボソッとロシアごでデレるとなりのアーリャさん、ロシア語: Иногда Аля внезапно кокетничает ... Feb 1, 2024 ... Alya Sometimes Hides Her Feelings in Russian, Vol.8 (時々ボソッとロシア語でデレる隣のアーリャさん) is the 8th Volume of the series. Feb 20, 2024 ... 政近役は天﨑滉平、アーリャ役は上坂すみれに決定. KADOKAWAスニーカー文庫から好評刊行中のライトノベル『時々ボソッとロシア語でデレる隣のアーリャさん ... Apr 1, 2022 ... ライトノベル「時々ボソッとロシア語でデレる隣のアーリャさん4」燦々SUNのあらすじ、最新情報をKADOKAWA公式サイトより。ロシアンJKとの青春ラブコメ ... Mar 16, 2024 ... 『時々ボソッとロシア語でデレる隣のアーリャさん』感想 ... また、私が本作を読んで感じた、ロシア語の印象も。 ... 長編に向いたテーマ性のある、 ... Apr 5, 2023 ... TVアニメ『時々ボソッとロシア語でデレる隣のアーリャさん』バーチャルシンガー・花譜さんとのコラボテーマソング「秘密の言葉」よりMV解禁！ 前巻の内容はこちらあらすじ感想この巻のメインテーマは政近の過去について物語の始まりは、\"久世\"政近ではなく\"周防\"政近だった頃の話から始まります。 政近の中では ... Mar 30, 2023 ... TVアニメ化記念『時々ボソッとロシア語でデレる隣のアーリャさん』とバーチャルシンガー・花譜さんのコラボ決定！ コラボテーマソング「秘密の言葉」 ...\u001b[0m\n",
      "Thought:\u001b[32;1m\u001b[1;3mI should look for a more detailed summary of the book.\n",
      "Action: google_search\n",
      "Action Input: \"時々ボソッとロシア語でデレるアーリャさん detailed summary\"\u001b[0m\n",
      "Observation: \u001b[36;1m\u001b[1;3m全巻初版 時々ボソッとロシア語でデレる隣のアーリャさん. 鉄人28号. ￥54,000. 4. Alya Sometimes Hides Her Feelings in Russian ... Alya Sometimes Hides Her Feelings in Russian (Japanese: 時々ボソッとロシア語でデレる隣のアーリャさん, Hepburn: ... 「時々ボソッとロシア語でデレる隣のアーリャさん」 ももこ / 燦々SUN 定価: ￥ 640 1巻以外、初版です。 時々ボソッとロシア語でデレる隣のアーリャさん5 ゆうゆう ... Apr 2, 2024 ... 時々ボソッとロシア語でデレる隣のアーリャさん コラボレーションカフェ 本日よりCoLaBoNo(名古屋)・CONCEPT CAFE OSAKA(大阪)にてコラボカフェが ... Quotes · Ask the Author. 時々ボソッとロシア語でデレる隣のアーリャさん [Tokidoki Bosotto Russia-go de Dereru Tonari no Alya-san] (manga) Series. 4 primary works ... Nov 7, 2023 ... ... Russian (JPJapanese: 時々ボソッとロシア語でデレる隣のアーリャさん. Romaji: Tokidoki Bosotto Russia-go de Dereru Tonari no Alya-san), which is ... Book 4.5. 時々ボソッとロシア語でデレる隣のアーリャさん4.5 Summer Stories. by Sunsunsun. 3.80 ... 時々ボソッとロシア語でデレる隣のアーリャさん (Japanese). Plot Summary: Masachika Kuse sits next to Arya, a girl of Russian and Japanese descent. She's ... 時々ボソッとロシア語でデレる隣のアーリャさん アクスタ. 時々ボソッとロシア語でデレる隣のアーリャさん アクスタ. ... russian manga volume 4. Featured Media. TV ...\u001b[0m\n",
      "Thought:\u001b[32;1m\u001b[1;3mI should summarize the information I found.\n",
      "Final Answer: \"時々ボソッとロシア語でデレるアーリャさん\" is a popular light novel series that falls under the romantic comedy genre. It features a story about Alya, a girl of Russian and Japanese descent, and Masachika Kuse. The series explores themes of romance, adolescence, and comedy.\u001b[0m\n",
      "\n",
      "\u001b[1m> Finished chain.\u001b[0m\n",
      "{'input': '\\nPlease describe in detail the contents of the book “時々ボソッとロシア語でデレるアーリャさん”. Please provide as much specific information as possible about what the book covers, important themes, genre, and a summary of the content.\\nDo not include any information unrelated to the content, such as the size of the book.\\n', 'output': '\"時々ボソッとロシア語でデレるアーリャさん\" is a popular light novel series that falls under the romantic comedy genre. It features a story about Alya, a girl of Russian and Japanese descent, and Masachika Kuse. The series explores themes of romance, adolescence, and comedy.'}\n"
     ]
    }
   ],
   "source": [
    "output = agent.invoke(prompt_format)\n",
    "print(output)"
   ]
  },
  {
   "cell_type": "code",
   "execution_count": null,
   "metadata": {},
   "outputs": [],
   "source": [
    "from langchain.embeddings import OpenAIEmbeddings\n",
    "\n",
    "embeddings = OpenAIEmbeddings()\n",
    "query_result = embeddings.embed_query(output[\"output\"])\n",
    "print(len(query_result))\n",
    "print(query_result)"
   ]
  },
  {
   "cell_type": "code",
   "execution_count": 1,
   "metadata": {},
   "outputs": [
    {
     "name": "stderr",
     "output_type": "stream",
     "text": [
      "/Users/kai-yamashita/Desktop/langchain/.venv/lib/python3.10/site-packages/langchain_core/_api/deprecation.py:119: LangChainDeprecationWarning: The function `initialize_agent` was deprecated in LangChain 0.1.0 and will be removed in 0.3.0. Use Use new agent constructor methods like create_react_agent, create_json_agent, create_structured_chat_agent, etc. instead.\n",
      "  warn_deprecated(\n"
     ]
    },
    {
     "name": "stdout",
     "output_type": "stream",
     "text": [
      "\n",
      "\n",
      "\u001b[1m> Entering new AgentExecutor chain...\u001b[0m\n",
      "\n",
      "\u001b[1m> Entering new AgentExecutor chain...\u001b[0m\n",
      "\n",
      "\n",
      "\n",
      "\u001b[1m> Entering new AgentExecutor chain...\u001b[0m\n",
      "\n",
      "\n",
      "\u001b[1m> Entering new AgentExecutor chain...\u001b[0m\n",
      "\n",
      "\n",
      "\u001b[1m> Entering new AgentExecutor chain...\u001b[0m\n",
      "\n",
      "\n",
      "\u001b[1m> Entering new AgentExecutor chain...\u001b[0m\n",
      "\u001b[32;1m\u001b[1;3mIt seems like the question is asking for a detailed explanation of the book \"The Devotion of Suspect X\" in Japanese.\n",
      "Action: google_search\n",
      "Action Input: \"The Devotion of Suspect X book summary\"\u001b[0m\u001b[32;1m\u001b[1;3mI should use the google_search tool to find detailed information about the book \"人間失格\".\n",
      "Action: google_search\n",
      "Action Input: \"人間失格 本 内容\"\u001b[0m"
     ]
    },
    {
     "ename": "",
     "evalue": "",
     "output_type": "error",
     "traceback": [
      "\u001b[1;31mThe Kernel crashed while executing code in the current cell or a previous cell. \n",
      "\u001b[1;31mPlease review the code in the cell(s) to identify a possible cause of the failure. \n",
      "\u001b[1;31mClick <a href='https://aka.ms/vscodeJupyterKernelCrash'>here</a> for more info. \n",
      "\u001b[1;31mView Jupyter <a href='command:jupyter.viewOutput'>log</a> for further details."
     ]
    }
   ],
   "source": [
    "import asyncio\n",
    "from langchain_openai import ChatOpenAI\n",
    "from langchain.agents import load_tools\n",
    "from langchain.agents import initialize_agent\n",
    "from langchain.prompts import PromptTemplate\n",
    "from langchain.embeddings import OpenAIEmbeddings\n",
    "import torch\n",
    "\n",
    "tools = [\"google-search\"]\n",
    "llm = ChatOpenAI(model=\"gpt-3.5-turbo\")\n",
    "tools = load_tools(tools, llm=llm)\n",
    "agent = initialize_agent(tools=tools, llm=llm, agent=\"zero-shot-react-description\", verbose=True)\n",
    "\n",
    "template = \"\"\"\n",
    "「{title}」の本の内容を詳細に説明してください．その本ではどのような内容が扱われているのか，重要なテーマ，ジャンル，内容の要約について，具体的な情報をできるだけ多く教えてください．\n",
    "\"\"\"\n",
    "preference_temlate = \"\"\"\n",
    "ユーザーの要求：「{preference}」\n",
    "このユーザーの読みたい本の要求に基づいて，ユーザーにおすすめするべき本は，どのような内容で，テーマ，ジャンルであるべきか，具体的な情報を挙げなさい\n",
    "\"\"\"\n",
    "\n",
    "prompt = PromptTemplate(template=template, input_variables=[\"title\"])\n",
    "preference_prompt = PromptTemplate(template=preference_temlate, input_variables=[\"preference\"])\n",
    "\n",
    "async def get_content(title):\n",
    "    book_prompt = prompt.format(title=title)\n",
    "    output = await agent.ainvoke(book_prompt)\n",
    "    print(output[\"output\"])\n",
    "    return output\n",
    "\n",
    "async def get_books_content(books):\n",
    "    tasks = [get_content(title) for title in books]\n",
    "    return await asyncio.gather(*tasks)\n",
    "\n",
    "\n",
    "books = [\"鋼の錬金術師\", \"人間失格\", \"容疑者Xの献身\", \"解析入門1\", \"人工知能は人間を超えるか\", \"時々ボソッとロシア語でデレる隣のアーリャさん\"]\n",
    "\n",
    "results = await get_books_content(books)\n",
    "embeddings = OpenAIEmbeddings()\n",
    "query_result = embeddings.embed_documents([result[\"output\"] for result in results])\n",
    "\n",
    "book_data = torch.tensor(query_result)\n",
    "print(book_data.shape)"
   ]
  },
  {
   "cell_type": "code",
   "execution_count": null,
   "metadata": {},
   "outputs": [],
   "source": [
    "preferences = llm(preference_prompt.format(preference=\"ラブコメ作品が読みたい\"))\n",
    "preference_emb = embeddings.embed_query(preferences[\"output\"])\n",
    "\n",
    "pfr = torch.tensor(preference_emb)\n",
    "pfr = pfr.repeat(book_data.shape[0], 1)\n",
    "similarity = torch.nn.functional.cosine_similarity(book_data, pfr, dim=1)\n",
    "\n",
    "max_index = torch.argmax(similarity)\n",
    "print(books[max_index.item()])\n",
    "\n",
    "\n"
   ]
  },
  {
   "cell_type": "code",
   "execution_count": 6,
   "metadata": {},
   "outputs": [
    {
     "name": "stdout",
     "output_type": "stream",
     "text": [
      "ラプコメ（ライトノベルとコメディの略）は、ライトノベルの要素とコメディ要素が組み合わさったジャンルの小説です。一般的には、軽快で笑いを取り入れたストーリー展開やキャラクターのやり取りが特徴とされています。主人公がコメディ的な状況に巻き込まれたり、ユーモアを交えながら冒険や日常生活を描いた作品が含まれます。\n"
     ]
    }
   ],
   "source": [
    "from langchain_openai import ChatOpenAI\n",
    "from langchain.agents import load_tools\n",
    "from langchain.agents import initialize_agent\n",
    "from langchain.prompts import PromptTemplate\n",
    "from langchain import hub\n",
    "from dotenv import load_dotenv\n",
    "load_dotenv()\n",
    "\n",
    "llm = ChatOpenAI(model=\"gpt-3.5-turbo\")\n",
    "message = [\n",
    "    (\"system\", \"You are a dictionary that provides information about genres and contents of books which are requested by users. Do not include any specific titles of books in your response. \"),\n",
    "    (\"human\", \"ラプコメが読みたい\")]\n",
    "fuge = llm.invoke(message)\n",
    "print(fuge.content)"
   ]
  }
 ],
 "metadata": {
  "kernelspec": {
   "display_name": ".venv",
   "language": "python",
   "name": "python3"
  },
  "language_info": {
   "codemirror_mode": {
    "name": "ipython",
    "version": 3
   },
   "file_extension": ".py",
   "mimetype": "text/x-python",
   "name": "python",
   "nbconvert_exporter": "python",
   "pygments_lexer": "ipython3",
   "version": "3.10.9"
  }
 },
 "nbformat": 4,
 "nbformat_minor": 2
}
